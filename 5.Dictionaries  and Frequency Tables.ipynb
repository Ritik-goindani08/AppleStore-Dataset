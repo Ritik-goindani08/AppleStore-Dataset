{
 "cells": [
  {
   "cell_type": "markdown",
   "metadata": {},
   "source": [
    "# Dictionary\n",
    "* Dictionary is a key value pair\n",
    "* key data type string , int , float\n",
    "* value data type string , int ,float , dict , list"
   ]
  },
  {
   "cell_type": "code",
   "execution_count": 1,
   "metadata": {},
   "outputs": [],
   "source": [
    "employee1 = {\"Name\" : \"Danial\", \"age\" : 30, \"salary\" : 300000.0}"
   ]
  },
  {
   "cell_type": "code",
   "execution_count": 2,
   "metadata": {},
   "outputs": [],
   "source": [
    "employee2 = [\"Ali\",25,56000.0]"
   ]
  },
  {
   "cell_type": "code",
   "execution_count": 3,
   "metadata": {},
   "outputs": [
    {
     "name": "stdout",
     "output_type": "stream",
     "text": [
      "{'Name': 'Danial', 'age': 30, 'salary': 300000.0}\n",
      "['Ali', 25, 56000.0]\n"
     ]
    }
   ],
   "source": [
    "print(employee1)\n",
    "print(employee2)"
   ]
  },
  {
   "cell_type": "code",
   "execution_count": 4,
   "metadata": {},
   "outputs": [
    {
     "data": {
      "text/plain": [
       "dict"
      ]
     },
     "execution_count": 4,
     "metadata": {},
     "output_type": "execute_result"
    }
   ],
   "source": [
    "type(employee1)"
   ]
  },
  {
   "cell_type": "code",
   "execution_count": 5,
   "metadata": {},
   "outputs": [
    {
     "data": {
      "text/plain": [
       "'Danial'"
      ]
     },
     "execution_count": 5,
     "metadata": {},
     "output_type": "execute_result"
    }
   ],
   "source": [
    "employee1[\"Name\"]"
   ]
  },
  {
   "cell_type": "code",
   "execution_count": 6,
   "metadata": {},
   "outputs": [
    {
     "data": {
      "text/plain": [
       "True"
      ]
     },
     "execution_count": 6,
     "metadata": {},
     "output_type": "execute_result"
    }
   ],
   "source": [
    "\"age\" in employee1 # Membership"
   ]
  },
  {
   "cell_type": "code",
   "execution_count": 7,
   "metadata": {},
   "outputs": [
    {
     "data": {
      "text/plain": [
       "{'Name': 'Salman', 'age': 30, 'salary': 300000.0}"
      ]
     },
     "execution_count": 7,
     "metadata": {},
     "output_type": "execute_result"
    }
   ],
   "source": [
    "# Update Name\n",
    "employee1[\"Name\"] = \"Salman\"\n",
    "employee1"
   ]
  },
  {
   "cell_type": "code",
   "execution_count": 8,
   "metadata": {},
   "outputs": [
    {
     "data": {
      "text/plain": [
       "{'Name': 'Salman', 'age': 30, 'salary': 300000.0, 'Gender': 'Male'}"
      ]
     },
     "execution_count": 8,
     "metadata": {},
     "output_type": "execute_result"
    }
   ],
   "source": [
    "# if key is not created then dict create key and intialize the value\n",
    "employee1[\"Gender\"] = \"Male\"\n",
    "employee1"
   ]
  },
  {
   "cell_type": "code",
   "execution_count": 9,
   "metadata": {},
   "outputs": [
    {
     "data": {
      "text/plain": [
       "30"
      ]
     },
     "execution_count": 9,
     "metadata": {},
     "output_type": "execute_result"
    }
   ],
   "source": [
    "# removes and returns element having given key \n",
    "employee1.pop(\"age\")"
   ]
  },
  {
   "cell_type": "code",
   "execution_count": 10,
   "metadata": {},
   "outputs": [
    {
     "data": {
      "text/plain": [
       "{'Name': 'Salman', 'salary': 300000.0, 'Gender': 'Male'}"
      ]
     },
     "execution_count": 10,
     "metadata": {},
     "output_type": "execute_result"
    }
   ],
   "source": [
    "employee1"
   ]
  },
  {
   "cell_type": "code",
   "execution_count": 11,
   "metadata": {},
   "outputs": [
    {
     "data": {
      "text/plain": [
       "{}"
      ]
     },
     "execution_count": 11,
     "metadata": {},
     "output_type": "execute_result"
    }
   ],
   "source": [
    "# Removes all Items\n",
    "employee1.clear()\n",
    "employee1"
   ]
  },
  {
   "cell_type": "markdown",
   "metadata": {},
   "source": [
    "# IMPORT APPLE STORE DATA "
   ]
  },
  {
   "cell_type": "code",
   "execution_count": 12,
   "metadata": {},
   "outputs": [],
   "source": [
    "from csv import reader"
   ]
  },
  {
   "cell_type": "code",
   "execution_count": 13,
   "metadata": {},
   "outputs": [
    {
     "data": {
      "text/plain": [
       "['id',\n",
       " 'track_name',\n",
       " 'size_bytes',\n",
       " 'currency',\n",
       " 'price',\n",
       " 'rating_count_tot',\n",
       " 'rating_count_ver',\n",
       " 'user_rating',\n",
       " 'user_rating_ver',\n",
       " 'ver',\n",
       " 'cont_rating',\n",
       " 'prime_genre',\n",
       " 'sup_devices.num',\n",
       " 'ipadSc_urls.num',\n",
       " 'lang.num',\n",
       " 'vpp_lic']"
      ]
     },
     "execution_count": 13,
     "metadata": {},
     "output_type": "execute_result"
    }
   ],
   "source": [
    "open_file = open(\"Datasets\\AppleStore.csv\",encoding=\"utf-8\")\n",
    "read_file = reader(open_file)\n",
    "dataset = list(read_file)\n",
    "dataset[0]"
   ]
  },
  {
   "cell_type": "markdown",
   "metadata": {},
   "source": [
    "* Genrate a frequency table of total user rating by given below condition:\n",
    "    * 0-10000 \n",
    "    * 10001-100000\n",
    "    * 100001-500000\n",
    "    * 500001-1000000\n",
    "    * 1000001 - so on"
   ]
  },
  {
   "cell_type": "code",
   "execution_count": 14,
   "metadata": {},
   "outputs": [
    {
     "data": {
      "text/plain": [
       "5"
      ]
     },
     "execution_count": 14,
     "metadata": {},
     "output_type": "execute_result"
    }
   ],
   "source": [
    "dataset[0].index(\"rating_count_tot\")"
   ]
  },
  {
   "cell_type": "code",
   "execution_count": 15,
   "metadata": {},
   "outputs": [],
   "source": [
    "tot_User_Rating = {\"0-10000\":0,\"10001-100000\":0,\"100001-500000\":0,\"500001-1000000\":0,\"1000001\":0}\n",
    "for i in dataset[1:]:\n",
    "    Total_Rating = int(i[5])\n",
    "    if Total_Rating >= 0 and Total_Rating <= 10000:\n",
    "        tot_User_Rating[\"0-10000\"] += 1\n",
    "    elif Total_Rating >= 10001 and Total_Rating <= 100000:\n",
    "        tot_User_Rating[\"10001-100000\"] += 1\n",
    "    elif Total_Rating >= 100001 and Total_Rating <= 500000:\n",
    "        tot_User_Rating[\"100001-500000\"] += 1\n",
    "    elif Total_Rating >= 500001 and Total_Rating <= 1000000:\n",
    "        tot_User_Rating[\"500001-1000000\"] += 1\n",
    "    elif Total_Rating >= 1000001:\n",
    "        tot_User_Rating[\"1000001\"] += 1"
   ]
  },
  {
   "cell_type": "code",
   "execution_count": 16,
   "metadata": {},
   "outputs": [
    {
     "data": {
      "text/plain": [
       "{'0-10000': 6181,\n",
       " '10001-100000': 798,\n",
       " '100001-500000': 196,\n",
       " '500001-1000000': 16,\n",
       " '1000001': 6}"
      ]
     },
     "execution_count": 16,
     "metadata": {},
     "output_type": "execute_result"
    }
   ],
   "source": [
    "tot_User_Rating"
   ]
  },
  {
   "cell_type": "markdown",
   "metadata": {},
   "source": [
    "# Class Task\n",
    "* Genrate a frequency table of total user rating by given below condition:\n",
    "    * 0-10000 \n",
    "    * 10001-100000\n",
    "    * 100001-500000\n",
    "    * 500001-1000000\n",
    "    * 1000001 - so on\n",
    "    * Note : without using any logical operators"
   ]
  },
  {
   "cell_type": "code",
   "execution_count": 17,
   "metadata": {},
   "outputs": [],
   "source": [
    "tot_User_Rating = {\"0-10000\":0,\"10001-100000\":0,\"100001-500000\":0,\"500001-1000000\":0,\"1000001\":0}\n",
    "for i in dataset[1:]:\n",
    "    Total_Rating = int(i[5])\n",
    "    if 0 <= Total_Rating <= 10000:\n",
    "        tot_User_Rating[\"0-10000\"] += 1\n",
    "    elif 10001 <= Total_Rating <= 100000:\n",
    "        tot_User_Rating[\"10001-100000\"] += 1\n",
    "    elif 100001 <= Total_Rating <= 500000:\n",
    "        tot_User_Rating[\"100001-500000\"] += 1\n",
    "    elif 500001 <= Total_Rating <= 1000000:\n",
    "        tot_User_Rating[\"500001-1000000\"] += 1\n",
    "    elif Total_Rating >= 1000001:\n",
    "        tot_User_Rating[\"1000001\"] += 1"
   ]
  },
  {
   "cell_type": "code",
   "execution_count": 18,
   "metadata": {},
   "outputs": [
    {
     "data": {
      "text/plain": [
       "{'0-10000': 6181,\n",
       " '10001-100000': 798,\n",
       " '100001-500000': 196,\n",
       " '500001-1000000': 16,\n",
       " '1000001': 6}"
      ]
     },
     "execution_count": 18,
     "metadata": {},
     "output_type": "execute_result"
    }
   ],
   "source": [
    "tot_User_Rating"
   ]
  },
  {
   "cell_type": "markdown",
   "metadata": {},
   "source": [
    "* Genrate a frequency table of prime genre"
   ]
  },
  {
   "cell_type": "code",
   "execution_count": 19,
   "metadata": {},
   "outputs": [
    {
     "data": {
      "text/plain": [
       "['id',\n",
       " 'track_name',\n",
       " 'size_bytes',\n",
       " 'currency',\n",
       " 'price',\n",
       " 'rating_count_tot',\n",
       " 'rating_count_ver',\n",
       " 'user_rating',\n",
       " 'user_rating_ver',\n",
       " 'ver',\n",
       " 'cont_rating',\n",
       " 'prime_genre',\n",
       " 'sup_devices.num',\n",
       " 'ipadSc_urls.num',\n",
       " 'lang.num',\n",
       " 'vpp_lic']"
      ]
     },
     "execution_count": 19,
     "metadata": {},
     "output_type": "execute_result"
    }
   ],
   "source": [
    "dataset[0]"
   ]
  },
  {
   "cell_type": "code",
   "execution_count": 20,
   "metadata": {},
   "outputs": [
    {
     "data": {
      "text/plain": [
       "11"
      ]
     },
     "execution_count": 20,
     "metadata": {},
     "output_type": "execute_result"
    }
   ],
   "source": [
    "dataset[0].index(\"prime_genre\")"
   ]
  },
  {
   "cell_type": "code",
   "execution_count": 21,
   "metadata": {},
   "outputs": [
    {
     "data": {
      "text/plain": [
       "{'Social Networking': 167,\n",
       " 'Photo & Video': 349,\n",
       " 'Games': 3862,\n",
       " 'Music': 138,\n",
       " 'Reference': 64,\n",
       " 'Health & Fitness': 180,\n",
       " 'Weather': 72,\n",
       " 'Utilities': 248,\n",
       " 'Travel': 81,\n",
       " 'Shopping': 122,\n",
       " 'News': 75,\n",
       " 'Navigation': 46,\n",
       " 'Lifestyle': 144,\n",
       " 'Entertainment': 535,\n",
       " 'Food & Drink': 63,\n",
       " 'Sports': 114,\n",
       " 'Book': 112,\n",
       " 'Finance': 104,\n",
       " 'Education': 453,\n",
       " 'Productivity': 178,\n",
       " 'Business': 57,\n",
       " 'Catalogs': 10,\n",
       " 'Medical': 23}"
      ]
     },
     "execution_count": 21,
     "metadata": {},
     "output_type": "execute_result"
    }
   ],
   "source": [
    "Prime_Genre = {}\n",
    "for i in dataset[1:]:\n",
    "    genre = i[11]\n",
    "    if genre in Prime_Genre:\n",
    "        Prime_Genre[genre] += 1\n",
    "    elif genre not in Prime_Genre:\n",
    "        Prime_Genre[genre] = 1\n",
    "Prime_Genre"
   ]
  },
  {
   "cell_type": "markdown",
   "metadata": {},
   "source": [
    "# Class Task\n",
    "* Genrate a frequency table of prime genre for unpaid Apps"
   ]
  },
  {
   "cell_type": "code",
   "execution_count": 22,
   "metadata": {},
   "outputs": [
    {
     "data": {
      "text/plain": [
       "{'Social Networking': 143,\n",
       " 'Photo & Video': 167,\n",
       " 'Games': 2257,\n",
       " 'Music': 67,\n",
       " 'Reference': 20,\n",
       " 'Health & Fitness': 76,\n",
       " 'Weather': 31,\n",
       " 'Utilities': 109,\n",
       " 'Travel': 56,\n",
       " 'Shopping': 121,\n",
       " 'News': 58,\n",
       " 'Navigation': 20,\n",
       " 'Lifestyle': 94,\n",
       " 'Entertainment': 334,\n",
       " 'Food & Drink': 43,\n",
       " 'Sports': 79,\n",
       " 'Book': 66,\n",
       " 'Finance': 84,\n",
       " 'Education': 132,\n",
       " 'Productivity': 62,\n",
       " 'Business': 20,\n",
       " 'Catalogs': 9,\n",
       " 'Medical': 8}"
      ]
     },
     "execution_count": 22,
     "metadata": {},
     "output_type": "execute_result"
    }
   ],
   "source": [
    "Unpaid_Apps = {}\n",
    "for i in dataset[1:]:\n",
    "    genre = i[11]\n",
    "    price = float(i[4])\n",
    "    if price == 0:\n",
    "        if genre in Unpaid_Apps:\n",
    "            Unpaid_Apps[genre] += 1\n",
    "        elif genre not in Unpaid_Apps:\n",
    "            Unpaid_Apps[genre] = 1\n",
    "Unpaid_Apps"
   ]
  },
  {
   "cell_type": "markdown",
   "metadata": {},
   "source": [
    "# Class Task\n",
    "* Genrate a frequency table of prime genre for paid Apps where user rating is greater than 4"
   ]
  },
  {
   "cell_type": "code",
   "execution_count": 23,
   "metadata": {},
   "outputs": [
    {
     "data": {
      "text/plain": [
       "{'Games': 813,\n",
       " 'Music': 34,\n",
       " 'Photo & Video': 89,\n",
       " 'Business': 18,\n",
       " 'Weather': 16,\n",
       " 'Health & Fitness': 67,\n",
       " 'Entertainment': 55,\n",
       " 'Utilities': 36,\n",
       " 'Education': 114,\n",
       " 'Reference': 21,\n",
       " 'Productivity': 57,\n",
       " 'Lifestyle': 17,\n",
       " 'Book': 29,\n",
       " 'Finance': 10,\n",
       " 'Sports': 10,\n",
       " 'Medical': 9,\n",
       " 'Shopping': 1,\n",
       " 'Food & Drink': 9,\n",
       " 'News': 4,\n",
       " 'Navigation': 9,\n",
       " 'Social Networking': 6,\n",
       " 'Travel': 10,\n",
       " 'Catalogs': 1}"
      ]
     },
     "execution_count": 23,
     "metadata": {},
     "output_type": "execute_result"
    }
   ],
   "source": [
    "paid_Apps = {}\n",
    "for i in dataset[1:]:\n",
    "    genre = i[11]\n",
    "    price = float(i[4])\n",
    "    rating = float(i[7])\n",
    "    if price != 0 and rating > 4:\n",
    "        if genre in paid_Apps:\n",
    "            paid_Apps[genre] += 1\n",
    "        elif genre not in paid_Apps:\n",
    "            paid_Apps[genre] = 1\n",
    "paid_Apps"
   ]
  },
  {
   "cell_type": "code",
   "execution_count": null,
   "metadata": {},
   "outputs": [],
   "source": []
  }
 ],
 "metadata": {
  "kernelspec": {
   "display_name": "Python 3",
   "language": "python",
   "name": "python3"
  },
  "language_info": {
   "codemirror_mode": {
    "name": "ipython",
    "version": 3
   },
   "file_extension": ".py",
   "mimetype": "text/x-python",
   "name": "python",
   "nbconvert_exporter": "python",
   "pygments_lexer": "ipython3",
   "version": "3.7.3"
  }
 },
 "nbformat": 4,
 "nbformat_minor": 2
}
