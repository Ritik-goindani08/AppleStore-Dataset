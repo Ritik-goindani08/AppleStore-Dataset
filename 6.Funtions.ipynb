{
 "cells": [
  {
   "cell_type": "markdown",
   "metadata": {},
   "source": [
    "# Functions\n",
    "    * Built Functions like print,len,str,int,float,type,list\n",
    "    * Function Declaration syntax:\n",
    "        def function_name():\n",
    "            statement\n",
    "            return 0"
   ]
  },
  {
   "cell_type": "code",
   "execution_count": 6,
   "metadata": {},
   "outputs": [],
   "source": [
    "# Delcaration of function\n",
    "def add(x,y): # Parameters\n",
    "    addition = x + y\n",
    "    return addition"
   ]
  },
  {
   "cell_type": "code",
   "execution_count": 19,
   "metadata": {},
   "outputs": [
    {
     "name": "stdout",
     "output_type": "stream",
     "text": [
      "9\n"
     ]
    }
   ],
   "source": [
    "# Call function \n",
    "print(add(5,4)) # postional arguments"
   ]
  },
  {
   "cell_type": "code",
   "execution_count": 13,
   "metadata": {},
   "outputs": [],
   "source": [
    "def seq_root(x):\n",
    "    return print(x*x , x**2)"
   ]
  },
  {
   "cell_type": "code",
   "execution_count": 16,
   "metadata": {},
   "outputs": [
    {
     "name": "stdout",
     "output_type": "stream",
     "text": [
      "49 49\n"
     ]
    }
   ],
   "source": [
    "seq_root(7)"
   ]
  },
  {
   "cell_type": "code",
   "execution_count": 23,
   "metadata": {},
   "outputs": [],
   "source": [
    "def test(a,b,e):\n",
    "    return a - e , a + b"
   ]
  },
  {
   "cell_type": "code",
   "execution_count": 24,
   "metadata": {},
   "outputs": [
    {
     "data": {
      "text/plain": [
       "(4, 11)"
      ]
     },
     "execution_count": 24,
     "metadata": {},
     "output_type": "execute_result"
    }
   ],
   "source": [
    "test(5,6,1) "
   ]
  },
  {
   "cell_type": "code",
   "execution_count": 27,
   "metadata": {},
   "outputs": [
    {
     "data": {
      "text/plain": [
       "(-1, 6)"
      ]
     },
     "execution_count": 27,
     "metadata": {},
     "output_type": "execute_result"
    }
   ],
   "source": [
    "test(b = 5, e = 2, a = 1) # keywords arguments"
   ]
  },
  {
   "cell_type": "code",
   "execution_count": 31,
   "metadata": {},
   "outputs": [
    {
     "data": {
      "text/plain": [
       "(3, 6)"
      ]
     },
     "execution_count": 31,
     "metadata": {},
     "output_type": "execute_result"
    }
   ],
   "source": [
    "test(5 , e = 2 , b = 1) # mix arguments (first postion arguement then keywords arguments)"
   ]
  },
  {
   "cell_type": "code",
   "execution_count": 34,
   "metadata": {},
   "outputs": [],
   "source": [
    "def tax(salary,tax_rate=0.05): # default arguemnts\n",
    "    return salary*tax_rate"
   ]
  },
  {
   "cell_type": "code",
   "execution_count": 36,
   "metadata": {},
   "outputs": [
    {
     "data": {
      "text/plain": [
       "900.0"
      ]
     },
     "execution_count": 36,
     "metadata": {},
     "output_type": "execute_result"
    }
   ],
   "source": [
    "tax(18000)"
   ]
  },
  {
   "cell_type": "code",
   "execution_count": 38,
   "metadata": {},
   "outputs": [
    {
     "data": {
      "text/plain": [
       "1800.0"
      ]
     },
     "execution_count": 38,
     "metadata": {},
     "output_type": "execute_result"
    }
   ],
   "source": [
    "tax(18000,0.10) "
   ]
  },
  {
   "cell_type": "code",
   "execution_count": 40,
   "metadata": {},
   "outputs": [
    {
     "data": {
      "text/plain": [
       "1600.0"
      ]
     },
     "execution_count": 40,
     "metadata": {},
     "output_type": "execute_result"
    }
   ],
   "source": [
    "tax(tax_rate=0.2,salary=8000)"
   ]
  },
  {
   "cell_type": "code",
   "execution_count": 41,
   "metadata": {},
   "outputs": [
    {
     "data": {
      "text/plain": [
       "100.0"
      ]
     },
     "execution_count": 41,
     "metadata": {},
     "output_type": "execute_result"
    }
   ],
   "source": [
    "tax(500,tax_rate=.2)"
   ]
  },
  {
   "cell_type": "code",
   "execution_count": 19,
   "metadata": {},
   "outputs": [],
   "source": [
    "def read_file(file_name):\n",
    "    from csv import reader\n",
    "    return list(reader(open(file_name,encoding=\"utf-8\")))"
   ]
  },
  {
   "cell_type": "code",
   "execution_count": 21,
   "metadata": {},
   "outputs": [],
   "source": [
    "dataset = read_file(\"Datasets\\AppleStore.csv\")"
   ]
  },
  {
   "cell_type": "code",
   "execution_count": 22,
   "metadata": {},
   "outputs": [
    {
     "data": {
      "text/plain": [
       "['id',\n",
       " 'track_name',\n",
       " 'size_bytes',\n",
       " 'currency',\n",
       " 'price',\n",
       " 'rating_count_tot',\n",
       " 'rating_count_ver',\n",
       " 'user_rating',\n",
       " 'user_rating_ver',\n",
       " 'ver',\n",
       " 'cont_rating',\n",
       " 'prime_genre',\n",
       " 'sup_devices.num',\n",
       " 'ipadSc_urls.num',\n",
       " 'lang.num',\n",
       " 'vpp_lic']"
      ]
     },
     "execution_count": 22,
     "metadata": {},
     "output_type": "execute_result"
    }
   ],
   "source": [
    "dataset[0]"
   ]
  },
  {
   "cell_type": "markdown",
   "metadata": {},
   "source": [
    "* Create a function for frequency table\n",
    "    1. first parameter = dataset\n",
    "    2. second parameter = col index number"
   ]
  },
  {
   "cell_type": "code",
   "execution_count": 23,
   "metadata": {},
   "outputs": [],
   "source": [
    "def freq(dataset,index):\n",
    "    dictionary = {}\n",
    "    for i in dataset[1:]:\n",
    "        value = i[index]\n",
    "        if value in dictionary:\n",
    "            dictionary[value] += 1\n",
    "        elif value not in dictionary:\n",
    "            dictionary[value] = 1\n",
    "    return dictionary"
   ]
  },
  {
   "cell_type": "code",
   "execution_count": 24,
   "metadata": {},
   "outputs": [
    {
     "data": {
      "text/plain": [
       "{'Social Networking': 167,\n",
       " 'Photo & Video': 349,\n",
       " 'Games': 3862,\n",
       " 'Music': 138,\n",
       " 'Reference': 64,\n",
       " 'Health & Fitness': 180,\n",
       " 'Weather': 72,\n",
       " 'Utilities': 248,\n",
       " 'Travel': 81,\n",
       " 'Shopping': 122,\n",
       " 'News': 75,\n",
       " 'Navigation': 46,\n",
       " 'Lifestyle': 144,\n",
       " 'Entertainment': 535,\n",
       " 'Food & Drink': 63,\n",
       " 'Sports': 114,\n",
       " 'Book': 112,\n",
       " 'Finance': 104,\n",
       " 'Education': 453,\n",
       " 'Productivity': 178,\n",
       " 'Business': 57,\n",
       " 'Catalogs': 10,\n",
       " 'Medical': 23}"
      ]
     },
     "execution_count": 24,
     "metadata": {},
     "output_type": "execute_result"
    }
   ],
   "source": [
    "freq(dataset,-5)"
   ]
  },
  {
   "cell_type": "markdown",
   "metadata": {},
   "source": [
    "* Create a function for frequency table\n",
    "    1. first parameter = dataset\n",
    "    2. second parameter = col name"
   ]
  },
  {
   "cell_type": "code",
   "execution_count": 29,
   "metadata": {},
   "outputs": [],
   "source": [
    "def freq_table(dataset,col):\n",
    "    index = dataset[0].index(col)\n",
    "    dictionary = {}\n",
    "    for i in dataset[1:]:\n",
    "        value = i[index]\n",
    "        if value in dictionary:\n",
    "            dictionary[value] += 1\n",
    "        elif value not in dictionary:\n",
    "            dictionary[value] = 1\n",
    "    return dictionary"
   ]
  },
  {
   "cell_type": "code",
   "execution_count": 30,
   "metadata": {},
   "outputs": [
    {
     "data": {
      "text/plain": [
       "{'Social Networking': 167,\n",
       " 'Photo & Video': 349,\n",
       " 'Games': 3862,\n",
       " 'Music': 138,\n",
       " 'Reference': 64,\n",
       " 'Health & Fitness': 180,\n",
       " 'Weather': 72,\n",
       " 'Utilities': 248,\n",
       " 'Travel': 81,\n",
       " 'Shopping': 122,\n",
       " 'News': 75,\n",
       " 'Navigation': 46,\n",
       " 'Lifestyle': 144,\n",
       " 'Entertainment': 535,\n",
       " 'Food & Drink': 63,\n",
       " 'Sports': 114,\n",
       " 'Book': 112,\n",
       " 'Finance': 104,\n",
       " 'Education': 453,\n",
       " 'Productivity': 178,\n",
       " 'Business': 57,\n",
       " 'Catalogs': 10,\n",
       " 'Medical': 23}"
      ]
     },
     "execution_count": 30,
     "metadata": {},
     "output_type": "execute_result"
    }
   ],
   "source": [
    "freq_table(dataset,\"prime_genre\")"
   ]
  },
  {
   "cell_type": "code",
   "execution_count": 31,
   "metadata": {},
   "outputs": [
    {
     "data": {
      "text/plain": [
       "{'3.5': 702,\n",
       " '4.5': 2663,\n",
       " '4': 1626,\n",
       " '3': 383,\n",
       " '5': 492,\n",
       " '2.5': 196,\n",
       " '2': 106,\n",
       " '1.5': 56,\n",
       " '1': 44,\n",
       " '0': 929}"
      ]
     },
     "execution_count": 31,
     "metadata": {},
     "output_type": "execute_result"
    }
   ],
   "source": [
    "freq_table(dataset,\"user_rating\")"
   ]
  },
  {
   "cell_type": "code",
   "execution_count": null,
   "metadata": {},
   "outputs": [],
   "source": []
  }
 ],
 "metadata": {
  "kernelspec": {
   "display_name": "Python 3",
   "language": "python",
   "name": "python3"
  },
  "language_info": {
   "codemirror_mode": {
    "name": "ipython",
    "version": 3
   },
   "file_extension": ".py",
   "mimetype": "text/x-python",
   "name": "python",
   "nbconvert_exporter": "python",
   "pygments_lexer": "ipython3",
   "version": "3.7.3"
  }
 },
 "nbformat": 4,
 "nbformat_minor": 2
}
