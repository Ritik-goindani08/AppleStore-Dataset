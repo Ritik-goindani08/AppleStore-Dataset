{
 "cells": [
  {
   "cell_type": "markdown",
   "metadata": {},
   "source": [
    "# Conditional Statements\n",
    "* if else Syntax\n",
    "        if condition:\n",
    "            statements\n",
    "        else:\n",
    "            statements\n",
    "            \n",
    "* Relational Operators\n",
    "        1. Greater than >\n",
    "        2. Less than <\n",
    "        3. Greater than or equal to >=\n",
    "        4. Less than or equal to <=\n",
    "        5. Not equal to !=\n",
    "        6. Equal to =="
   ]
  },
  {
   "cell_type": "code",
   "execution_count": 1,
   "metadata": {},
   "outputs": [
    {
     "name": "stdout",
     "output_type": "stream",
     "text": [
      "Eligible to vote\n"
     ]
    }
   ],
   "source": [
    "age = 19\n",
    "if age >= 18:\n",
    "    print(\"Eligible to vote\")\n",
    "else:\n",
    "    print(\"Not Eligible to vote\")"
   ]
  },
  {
   "cell_type": "code",
   "execution_count": 2,
   "metadata": {},
   "outputs": [],
   "source": [
    "import csv"
   ]
  },
  {
   "cell_type": "code",
   "execution_count": 3,
   "metadata": {},
   "outputs": [
    {
     "data": {
      "text/plain": [
       "['id',\n",
       " 'track_name',\n",
       " 'size_bytes',\n",
       " 'currency',\n",
       " 'price',\n",
       " 'rating_count_tot',\n",
       " 'rating_count_ver',\n",
       " 'user_rating',\n",
       " 'user_rating_ver',\n",
       " 'ver',\n",
       " 'cont_rating',\n",
       " 'prime_genre',\n",
       " 'sup_devices.num',\n",
       " 'ipadSc_urls.num',\n",
       " 'lang.num',\n",
       " 'vpp_lic']"
      ]
     },
     "execution_count": 3,
     "metadata": {},
     "output_type": "execute_result"
    }
   ],
   "source": [
    "open_file = open(\"Datasets\\AppleStore.csv\",encoding=\"utf-8\")\n",
    "read_file = csv.reader(open_file)\n",
    "dataset = list(read_file)\n",
    "dataset[0]"
   ]
  },
  {
   "cell_type": "markdown",
   "metadata": {},
   "source": [
    "* Cal average of user_rating col"
   ]
  },
  {
   "cell_type": "code",
   "execution_count": 4,
   "metadata": {},
   "outputs": [
    {
     "data": {
      "text/plain": [
       "7"
      ]
     },
     "execution_count": 4,
     "metadata": {},
     "output_type": "execute_result"
    }
   ],
   "source": [
    "dataset[0].index(\"user_rating\")"
   ]
  },
  {
   "cell_type": "code",
   "execution_count": 5,
   "metadata": {},
   "outputs": [
    {
     "data": {
      "text/plain": [
       "str"
      ]
     },
     "execution_count": 5,
     "metadata": {},
     "output_type": "execute_result"
    }
   ],
   "source": [
    "type(dataset[1][7])"
   ]
  },
  {
   "cell_type": "code",
   "execution_count": 6,
   "metadata": {},
   "outputs": [
    {
     "data": {
      "text/plain": [
       "3.526955675976101"
      ]
     },
     "execution_count": 6,
     "metadata": {},
     "output_type": "execute_result"
    }
   ],
   "source": [
    "Free_Ratings = []\n",
    "for row in dataset[1:]:\n",
    "    Free_Ratings.append(float(row[7]))\n",
    "AVG = sum(Free_Ratings)/len(Free_Ratings)\n",
    "AVG"
   ]
  },
  {
   "cell_type": "markdown",
   "metadata": {},
   "source": [
    "* Cal average of user_rating col where price is 0"
   ]
  },
  {
   "cell_type": "code",
   "execution_count": 7,
   "metadata": {},
   "outputs": [
    {
     "data": {
      "text/plain": [
       "7"
      ]
     },
     "execution_count": 7,
     "metadata": {},
     "output_type": "execute_result"
    }
   ],
   "source": [
    "dataset[0].index(\"user_rating\")"
   ]
  },
  {
   "cell_type": "code",
   "execution_count": 8,
   "metadata": {},
   "outputs": [
    {
     "data": {
      "text/plain": [
       "4"
      ]
     },
     "execution_count": 8,
     "metadata": {},
     "output_type": "execute_result"
    }
   ],
   "source": [
    "dataset[0].index(\"price\")"
   ]
  },
  {
   "cell_type": "code",
   "execution_count": 9,
   "metadata": {},
   "outputs": [
    {
     "name": "stdout",
     "output_type": "stream",
     "text": [
      "<class 'str'> <class 'str'>\n"
     ]
    }
   ],
   "source": [
    "print(type(dataset[1][4]), type(dataset[1][7]))"
   ]
  },
  {
   "cell_type": "code",
   "execution_count": 10,
   "metadata": {},
   "outputs": [
    {
     "data": {
      "text/plain": [
       "3.3767258382642997"
      ]
     },
     "execution_count": 10,
     "metadata": {},
     "output_type": "execute_result"
    }
   ],
   "source": [
    "free_ratings = []\n",
    "for row in dataset[1:]:\n",
    "    price = float(row[4])\n",
    "    user_rating = float(row[7])\n",
    "    if price == 0.0:\n",
    "        free_ratings.append(user_rating)\n",
    "avg = sum(free_ratings)/len(free_ratings)\n",
    "avg"
   ]
  },
  {
   "cell_type": "code",
   "execution_count": 11,
   "metadata": {},
   "outputs": [
    {
     "data": {
      "text/plain": [
       "3.3767258382642997"
      ]
     },
     "execution_count": 11,
     "metadata": {},
     "output_type": "execute_result"
    }
   ],
   "source": [
    "freeRatings = 0\n",
    "count = 0\n",
    "for row in dataset[1:]:\n",
    "    price = float(row[4])\n",
    "    user_rating = float(row[7])\n",
    "    if price == 0.0:\n",
    "        freeRatings += user_rating\n",
    "Avg = freeRatings/len(free_ratings)\n",
    "Avg"
   ]
  },
  {
   "cell_type": "markdown",
   "metadata": {},
   "source": [
    "* Cal average of user_rating col where price is 0 and prime_genre is Games"
   ]
  },
  {
   "cell_type": "code",
   "execution_count": 12,
   "metadata": {},
   "outputs": [
    {
     "name": "stdout",
     "output_type": "stream",
     "text": [
      "7\n",
      "4\n",
      "11\n"
     ]
    }
   ],
   "source": [
    "print(dataset[0].index(\"user_rating\"))\n",
    "print(dataset[0].index(\"price\"))\n",
    "print(dataset[0].index(\"prime_genre\"))"
   ]
  },
  {
   "cell_type": "code",
   "execution_count": 13,
   "metadata": {},
   "outputs": [
    {
     "data": {
      "text/plain": [
       "3.5285777580859548"
      ]
     },
     "execution_count": 13,
     "metadata": {},
     "output_type": "execute_result"
    }
   ],
   "source": [
    "FREE_RATINGS = []\n",
    "for i in dataset[1:]:\n",
    "    ratings = float(i[7])\n",
    "    price = float(i[4])\n",
    "    genre = i[11]\n",
    "    if price == 0 and genre == \"Games\":\n",
    "        FREE_RATINGS.append(ratings)\n",
    "Average = sum(FREE_RATINGS)/len(FREE_RATINGS)\n",
    "Average"
   ]
  },
  {
   "cell_type": "markdown",
   "metadata": {},
   "source": [
    "# Class Task\n",
    "* Cal average of user_rating col where price is 0 and prime_genre is Games or Social Networking"
   ]
  },
  {
   "cell_type": "code",
   "execution_count": 14,
   "metadata": {},
   "outputs": [
    {
     "data": {
      "text/plain": [
       "3.496875"
      ]
     },
     "execution_count": 14,
     "metadata": {},
     "output_type": "execute_result"
    }
   ],
   "source": [
    "FREE_RATINGS = []\n",
    "for i in dataset[1:]:\n",
    "    ratings = float(i[7])\n",
    "    price = float(i[4])\n",
    "    genre = i[11]\n",
    "    if price == 0 and (genre == \"Games\" or genre == \"Social Networking\"):\n",
    "        FREE_RATINGS.append(ratings)\n",
    "Average = sum(FREE_RATINGS)/len(FREE_RATINGS)\n",
    "Average"
   ]
  },
  {
   "cell_type": "markdown",
   "metadata": {},
   "source": [
    "# Multiple Conditional Statements\n",
    "* if, elif, else Syntax\n",
    "        if condition:\n",
    "            statements\n",
    "        elif condition:\n",
    "            statements\n",
    "        else:\n",
    "            statements"
   ]
  },
  {
   "cell_type": "code",
   "execution_count": 15,
   "metadata": {},
   "outputs": [
    {
     "name": "stdout",
     "output_type": "stream",
     "text": [
      "Senior Citizen\n"
     ]
    }
   ],
   "source": [
    "age = 95\n",
    "if age >= 0 and age <= 20:\n",
    "    print(\"Teen ager\")\n",
    "elif age >= 21 and age <= 50:\n",
    "    print(\"Adult\")\n",
    "elif age >= 51 and age <= 100:\n",
    "    print(\"Senior Citizen\")\n",
    "else:\n",
    "    print(\"404 not found\")"
   ]
  },
  {
   "cell_type": "code",
   "execution_count": 16,
   "metadata": {},
   "outputs": [
    {
     "name": "stdout",
     "output_type": "stream",
     "text": [
      "Adult\n"
     ]
    }
   ],
   "source": [
    "age = 50\n",
    "if  0 <= age <= 20:\n",
    "    print(\"Teen ager\")\n",
    "elif 21 <= age <= 50:\n",
    "    print(\"Adult\")\n",
    "elif 51 <= age <= 100:\n",
    "    print(\"Senior Citizen\")\n",
    "else:\n",
    "    print(\"404 not found\")"
   ]
  },
  {
   "cell_type": "markdown",
   "metadata": {},
   "source": [
    "* Add a Col \"price_labelling\" in AppleStore dataset and add a price label in all application row by given condition below:\n",
    "    * free == 0\n",
    "    * cheap > 0.0 , <= 20.0\n",
    "    * affordabale > 20 , <= 50.0\n",
    "    * expensive > 50.0"
   ]
  },
  {
   "cell_type": "code",
   "execution_count": 17,
   "metadata": {},
   "outputs": [
    {
     "data": {
      "text/plain": [
       "['id',\n",
       " 'track_name',\n",
       " 'size_bytes',\n",
       " 'currency',\n",
       " 'price',\n",
       " 'rating_count_tot',\n",
       " 'rating_count_ver',\n",
       " 'user_rating',\n",
       " 'user_rating_ver',\n",
       " 'ver',\n",
       " 'cont_rating',\n",
       " 'prime_genre',\n",
       " 'sup_devices.num',\n",
       " 'ipadSc_urls.num',\n",
       " 'lang.num',\n",
       " 'vpp_lic',\n",
       " 'Price_labelling']"
      ]
     },
     "execution_count": 17,
     "metadata": {},
     "output_type": "execute_result"
    }
   ],
   "source": [
    "dataset[0].append(\"Price_labelling\")\n",
    "dataset[0]"
   ]
  },
  {
   "cell_type": "code",
   "execution_count": 18,
   "metadata": {},
   "outputs": [
    {
     "data": {
      "text/plain": [
       "4"
      ]
     },
     "execution_count": 18,
     "metadata": {},
     "output_type": "execute_result"
    }
   ],
   "source": [
    "dataset[0].index(\"price\")"
   ]
  },
  {
   "cell_type": "code",
   "execution_count": 19,
   "metadata": {},
   "outputs": [
    {
     "data": {
      "text/plain": [
       "16"
      ]
     },
     "execution_count": 19,
     "metadata": {},
     "output_type": "execute_result"
    }
   ],
   "source": [
    "dataset[0].index(\"Price_labelling\")"
   ]
  },
  {
   "cell_type": "code",
   "execution_count": 20,
   "metadata": {},
   "outputs": [],
   "source": [
    "for i in dataset[1:]:\n",
    "    price = float(i[4])\n",
    "    if price == 0:\n",
    "        i.append(\"Free\")\n",
    "    elif price > 0 and price <= 20:\n",
    "        i.append(\"Cheap\")\n",
    "    elif price > 20 and price <= 50:\n",
    "        i.append(\"affordabale\")\n",
    "    elif price > 50:\n",
    "        i.append(\"expensive\")\n",
    "    else:\n",
    "        i.append(\"Price not given\")"
   ]
  },
  {
   "cell_type": "code",
   "execution_count": 21,
   "metadata": {},
   "outputs": [
    {
     "data": {
      "text/plain": [
       "[['293778748',\n",
       "  'PAC-MAN',\n",
       "  '100849664',\n",
       "  'USD',\n",
       "  '0',\n",
       "  '508808',\n",
       "  '99',\n",
       "  '3',\n",
       "  '4.5',\n",
       "  '6.3.5',\n",
       "  '4+',\n",
       "  'Games',\n",
       "  '38',\n",
       "  '5',\n",
       "  '10',\n",
       "  '1',\n",
       "  'Free'],\n",
       " ['341232718',\n",
       "  'Calorie Counter & Diet Tracker by MyFitnessPal',\n",
       "  '152700928',\n",
       "  'USD',\n",
       "  '0',\n",
       "  '507706',\n",
       "  '181',\n",
       "  '4.5',\n",
       "  '4.5',\n",
       "  '7.16',\n",
       "  '4+',\n",
       "  'Health & Fitness',\n",
       "  '37',\n",
       "  '5',\n",
       "  '19',\n",
       "  '1',\n",
       "  'Free'],\n",
       " ['440045374',\n",
       "  'DragonVale',\n",
       "  '153074688',\n",
       "  'USD',\n",
       "  '0',\n",
       "  '503230',\n",
       "  '282',\n",
       "  '4.5',\n",
       "  '4.5',\n",
       "  '3.15.0',\n",
       "  '4+',\n",
       "  'Games',\n",
       "  '37',\n",
       "  '5',\n",
       "  '10',\n",
       "  '1',\n",
       "  'Free'],\n",
       " ['295646461',\n",
       "  'The Weather Channel: Forecast, Radar & Alerts',\n",
       "  '199734272',\n",
       "  'USD',\n",
       "  '0',\n",
       "  '495626',\n",
       "  '5893',\n",
       "  '3.5',\n",
       "  '4.5',\n",
       "  '8.11',\n",
       "  '4+',\n",
       "  'Weather',\n",
       "  '37',\n",
       "  '0',\n",
       "  '33',\n",
       "  '1',\n",
       "  'Free'],\n",
       " ['487119327',\n",
       "  'Head Soccer',\n",
       "  '121319424',\n",
       "  'USD',\n",
       "  '0',\n",
       "  '481564',\n",
       "  '8518',\n",
       "  '5',\n",
       "  '5',\n",
       "  '5.4.1',\n",
       "  '4+',\n",
       "  'Games',\n",
       "  '40',\n",
       "  '4',\n",
       "  '11',\n",
       "  '1',\n",
       "  'Free'],\n",
       " ['284815942',\n",
       "  'Google – Search made just for mobile',\n",
       "  '179979264',\n",
       "  'USD',\n",
       "  '0',\n",
       "  '479440',\n",
       "  '203',\n",
       "  '3.5',\n",
       "  '4',\n",
       "  '27',\n",
       "  '17+',\n",
       "  'Utilities',\n",
       "  '37',\n",
       "  '4',\n",
       "  '33',\n",
       "  '1',\n",
       "  'Free'],\n",
       " ['596402997',\n",
       "  'Despicable Me: Minion Rush',\n",
       "  '147123200',\n",
       "  'USD',\n",
       "  '0',\n",
       "  '464312',\n",
       "  '444',\n",
       "  '4.5',\n",
       "  '4.5',\n",
       "  '4.6.0',\n",
       "  '9+',\n",
       "  'Games',\n",
       "  '38',\n",
       "  '5',\n",
       "  '16',\n",
       "  '1',\n",
       "  'Free'],\n",
       " ['466965151',\n",
       "  'The Sims™ FreePlay',\n",
       "  '695603200',\n",
       "  'USD',\n",
       "  '0',\n",
       "  '446880',\n",
       "  '1832',\n",
       "  '4.5',\n",
       "  '4',\n",
       "  '5.29.0',\n",
       "  '12+',\n",
       "  'Games',\n",
       "  '38',\n",
       "  '5',\n",
       "  '12',\n",
       "  '1',\n",
       "  'Free'],\n",
       " ['293622097',\n",
       "  'Google Earth',\n",
       "  '37214208',\n",
       "  'USD',\n",
       "  '0',\n",
       "  '446185',\n",
       "  '1359',\n",
       "  '3.5',\n",
       "  '3.5',\n",
       "  '7.1.6',\n",
       "  '4+',\n",
       "  'Travel',\n",
       "  '43',\n",
       "  '5',\n",
       "  '30',\n",
       "  '1',\n",
       "  'Free'],\n",
       " ['350642635',\n",
       "  'Plants vs. Zombies',\n",
       "  '105379840',\n",
       "  'USD',\n",
       "  '0.99',\n",
       "  '426463',\n",
       "  '680',\n",
       "  '5',\n",
       "  '4',\n",
       "  '1.9.13',\n",
       "  '9+',\n",
       "  'Games',\n",
       "  '38',\n",
       "  '0',\n",
       "  '5',\n",
       "  '1',\n",
       "  'Cheap'],\n",
       " ['582654048',\n",
       "  'Sonic Dash',\n",
       "  '186687488',\n",
       "  'USD',\n",
       "  '0',\n",
       "  '418033',\n",
       "  '419',\n",
       "  '4.5',\n",
       "  '4.5',\n",
       "  '3.7.1',\n",
       "  '4+',\n",
       "  'Games',\n",
       "  '37',\n",
       "  '5',\n",
       "  '7',\n",
       "  '1',\n",
       "  'Free'],\n",
       " ['352683833',\n",
       "  'Groupon - Deals, Coupons & Discount Shopping App',\n",
       "  '127382528',\n",
       "  'USD',\n",
       "  '0',\n",
       "  '417779',\n",
       "  '914',\n",
       "  '4.5',\n",
       "  '4.5',\n",
       "  '17.7',\n",
       "  '12+',\n",
       "  'Shopping',\n",
       "  '37',\n",
       "  '4',\n",
       "  '10',\n",
       "  '1',\n",
       "  'Free'],\n",
       " ['543186831',\n",
       "  '8 Ball Pool™',\n",
       "  '86776832',\n",
       "  'USD',\n",
       "  '0',\n",
       "  '416736',\n",
       "  '19076',\n",
       "  '4.5',\n",
       "  '4.5',\n",
       "  '3.9.1',\n",
       "  '4+',\n",
       "  'Games',\n",
       "  '38',\n",
       "  '5',\n",
       "  '10',\n",
       "  '1',\n",
       "  'Free'],\n",
       " ['422667065',\n",
       "  'Tiny Tower - Free City Building',\n",
       "  '124720128',\n",
       "  'USD',\n",
       "  '0',\n",
       "  '414803',\n",
       "  '4536',\n",
       "  '4.5',\n",
       "  '4.5',\n",
       "  '3.3.12',\n",
       "  '12+',\n",
       "  'Games',\n",
       "  '38',\n",
       "  '4',\n",
       "  '1',\n",
       "  '1',\n",
       "  'Free'],\n",
       " ['457446957',\n",
       "  'Jetpack Joyride',\n",
       "  '108813312',\n",
       "  'USD',\n",
       "  '0',\n",
       "  '405647',\n",
       "  '877',\n",
       "  '4.5',\n",
       "  '4.5',\n",
       "  '1.9.24',\n",
       "  '9+',\n",
       "  'Games',\n",
       "  '38',\n",
       "  '5',\n",
       "  '3',\n",
       "  '1',\n",
       "  'Free'],\n",
       " ['510461758',\n",
       "  'Bike Race - Top Motorcycle Racing Games',\n",
       "  '120187904',\n",
       "  'USD',\n",
       "  '0',\n",
       "  '405007',\n",
       "  '4053',\n",
       "  '4.5',\n",
       "  '5',\n",
       "  '7.3.11',\n",
       "  '4+',\n",
       "  'Games',\n",
       "  '38',\n",
       "  '5',\n",
       "  '9',\n",
       "  '1',\n",
       "  'Free'],\n",
       " ['284993459',\n",
       "  'Shazam - Discover music, artists, videos & lyrics',\n",
       "  '147093504',\n",
       "  'USD',\n",
       "  '0',\n",
       "  '402925',\n",
       "  '136',\n",
       "  '4',\n",
       "  '4.5',\n",
       "  '11.0.3',\n",
       "  '12+',\n",
       "  'Music',\n",
       "  '37',\n",
       "  '3',\n",
       "  '16',\n",
       "  '1',\n",
       "  'Free'],\n",
       " ['860822992',\n",
       "  'Kim Kardashian: Hollywood',\n",
       "  '239976448',\n",
       "  'USD',\n",
       "  '0',\n",
       "  '397730',\n",
       "  '467',\n",
       "  '4.5',\n",
       "  '4.5',\n",
       "  '6.6.0',\n",
       "  '12+',\n",
       "  'Games',\n",
       "  '38',\n",
       "  '5',\n",
       "  '1',\n",
       "  '1',\n",
       "  'Free'],\n",
       " ['307727765',\n",
       "  'Doodle Jump',\n",
       "  '48741376',\n",
       "  'USD',\n",
       "  '0.99',\n",
       "  '395261',\n",
       "  '88',\n",
       "  '4.5',\n",
       "  '4.5',\n",
       "  '3.17.6',\n",
       "  '4+',\n",
       "  'Games',\n",
       "  '37',\n",
       "  '0',\n",
       "  '1',\n",
       "  '1',\n",
       "  'Cheap'],\n",
       " ['651510680',\n",
       "  'Trivia Crack',\n",
       "  '265484288',\n",
       "  'USD',\n",
       "  '0',\n",
       "  '393469',\n",
       "  '34',\n",
       "  '4.5',\n",
       "  '3.5',\n",
       "  '2.4',\n",
       "  '4+',\n",
       "  'Games',\n",
       "  '37',\n",
       "  '5',\n",
       "  '26',\n",
       "  '1',\n",
       "  'Free'],\n",
       " ['708600202',\n",
       "  'WordBrain',\n",
       "  '110595072',\n",
       "  'USD',\n",
       "  '0',\n",
       "  '391401',\n",
       "  '82',\n",
       "  '4.5',\n",
       "  '4.5',\n",
       "  '1.21.1',\n",
       "  '4+',\n",
       "  'Games',\n",
       "  '38',\n",
       "  '5',\n",
       "  '1',\n",
       "  '1',\n",
       "  'Free']]"
      ]
     },
     "execution_count": 21,
     "metadata": {},
     "output_type": "execute_result"
    }
   ],
   "source": [
    "dataset[20:41]"
   ]
  },
  {
   "cell_type": "markdown",
   "metadata": {},
   "source": [
    "# Class Task\n",
    "* Add a Col \"User_Rating_labelling\" in AppleStore dataset\n",
    "* Add a Rating label in all application row by given condition below:\n",
    "    * poor == 0\n",
    "    * average > 0.0 , <= 2\n",
    "    * Good > 2 , <= 4\n",
    "    * Awesome > 4\n",
    "    * Note: without using any logical operator(and,or,not) & .append method"
   ]
  },
  {
   "cell_type": "code",
   "execution_count": 22,
   "metadata": {},
   "outputs": [
    {
     "data": {
      "text/plain": [
       "['id',\n",
       " 'track_name',\n",
       " 'size_bytes',\n",
       " 'currency',\n",
       " 'price',\n",
       " 'rating_count_tot',\n",
       " 'rating_count_ver',\n",
       " 'user_rating',\n",
       " 'user_rating_ver',\n",
       " 'ver',\n",
       " 'cont_rating',\n",
       " 'prime_genre',\n",
       " 'sup_devices.num',\n",
       " 'ipadSc_urls.num',\n",
       " 'lang.num',\n",
       " 'vpp_lic',\n",
       " 'Price_labelling',\n",
       " 'User_Rating_labelling']"
      ]
     },
     "execution_count": 22,
     "metadata": {},
     "output_type": "execute_result"
    }
   ],
   "source": [
    "dataset[0].append(\"User_Rating_labelling\")\n",
    "dataset[0]"
   ]
  },
  {
   "cell_type": "code",
   "execution_count": 23,
   "metadata": {},
   "outputs": [
    {
     "data": {
      "text/plain": [
       "7"
      ]
     },
     "execution_count": 23,
     "metadata": {},
     "output_type": "execute_result"
    }
   ],
   "source": [
    "dataset[0].index(\"user_rating\")"
   ]
  },
  {
   "cell_type": "code",
   "execution_count": 24,
   "metadata": {},
   "outputs": [
    {
     "data": {
      "text/plain": [
       "17"
      ]
     },
     "execution_count": 24,
     "metadata": {},
     "output_type": "execute_result"
    }
   ],
   "source": [
    "dataset[0].index(\"User_Rating_labelling\")"
   ]
  },
  {
   "cell_type": "code",
   "execution_count": 25,
   "metadata": {},
   "outputs": [],
   "source": [
    "for i in dataset[1:]:\n",
    "    rating = float(i[7])\n",
    "    if rating == 0:\n",
    "        i[-1] = \"Poor\"\n",
    "    elif 0 < rating <= 2:\n",
    "        i[-1] = \"average\"\n",
    "    elif 2 < rating <= 4:\n",
    "        i[-1] = \"good\"\n",
    "    elif rating > 4:\n",
    "        i[-1] = \"Awesome\"\n",
    "    else:\n",
    "        i[-1] = \"Rating not given\""
   ]
  },
  {
   "cell_type": "code",
   "execution_count": 26,
   "metadata": {},
   "outputs": [
    {
     "data": {
      "text/plain": [
       "[['id',\n",
       "  'track_name',\n",
       "  'size_bytes',\n",
       "  'currency',\n",
       "  'price',\n",
       "  'rating_count_tot',\n",
       "  'rating_count_ver',\n",
       "  'user_rating',\n",
       "  'user_rating_ver',\n",
       "  'ver',\n",
       "  'cont_rating',\n",
       "  'prime_genre',\n",
       "  'sup_devices.num',\n",
       "  'ipadSc_urls.num',\n",
       "  'lang.num',\n",
       "  'vpp_lic',\n",
       "  'Price_labelling',\n",
       "  'User_Rating_labelling'],\n",
       " ['284882215',\n",
       "  'Facebook',\n",
       "  '389879808',\n",
       "  'USD',\n",
       "  '0',\n",
       "  '2974676',\n",
       "  '212',\n",
       "  '3.5',\n",
       "  '3.5',\n",
       "  '95',\n",
       "  '4+',\n",
       "  'Social Networking',\n",
       "  '37',\n",
       "  '1',\n",
       "  '29',\n",
       "  '1',\n",
       "  'good'],\n",
       " ['389801252',\n",
       "  'Instagram',\n",
       "  '113954816',\n",
       "  'USD',\n",
       "  '0',\n",
       "  '2161558',\n",
       "  '1289',\n",
       "  '4.5',\n",
       "  '4',\n",
       "  '10.23',\n",
       "  '12+',\n",
       "  'Photo & Video',\n",
       "  '37',\n",
       "  '0',\n",
       "  '29',\n",
       "  '1',\n",
       "  'Awesome'],\n",
       " ['529479190',\n",
       "  'Clash of Clans',\n",
       "  '116476928',\n",
       "  'USD',\n",
       "  '0',\n",
       "  '2130805',\n",
       "  '579',\n",
       "  '4.5',\n",
       "  '4.5',\n",
       "  '9.24.12',\n",
       "  '9+',\n",
       "  'Games',\n",
       "  '38',\n",
       "  '5',\n",
       "  '18',\n",
       "  '1',\n",
       "  'Awesome'],\n",
       " ['420009108',\n",
       "  'Temple Run',\n",
       "  '65921024',\n",
       "  'USD',\n",
       "  '0',\n",
       "  '1724546',\n",
       "  '3842',\n",
       "  '4.5',\n",
       "  '4',\n",
       "  '1.6.2',\n",
       "  '9+',\n",
       "  'Games',\n",
       "  '40',\n",
       "  '5',\n",
       "  '1',\n",
       "  '1',\n",
       "  'Awesome'],\n",
       " ['284035177',\n",
       "  'Pandora - Music & Radio',\n",
       "  '130242560',\n",
       "  'USD',\n",
       "  '0',\n",
       "  '1126879',\n",
       "  '3594',\n",
       "  '4',\n",
       "  '4.5',\n",
       "  '8.4.1',\n",
       "  '12+',\n",
       "  'Music',\n",
       "  '37',\n",
       "  '4',\n",
       "  '1',\n",
       "  '1',\n",
       "  'good'],\n",
       " ['429047995',\n",
       "  'Pinterest',\n",
       "  '74778624',\n",
       "  'USD',\n",
       "  '0',\n",
       "  '1061624',\n",
       "  '1814',\n",
       "  '4.5',\n",
       "  '4',\n",
       "  '6.26',\n",
       "  '12+',\n",
       "  'Social Networking',\n",
       "  '37',\n",
       "  '5',\n",
       "  '27',\n",
       "  '1',\n",
       "  'Awesome'],\n",
       " ['282935706',\n",
       "  'Bible',\n",
       "  '92774400',\n",
       "  'USD',\n",
       "  '0',\n",
       "  '985920',\n",
       "  '5320',\n",
       "  '4.5',\n",
       "  '5',\n",
       "  '7.5.1',\n",
       "  '4+',\n",
       "  'Reference',\n",
       "  '37',\n",
       "  '5',\n",
       "  '45',\n",
       "  '1',\n",
       "  'Awesome'],\n",
       " ['553834731',\n",
       "  'Candy Crush Saga',\n",
       "  '222846976',\n",
       "  'USD',\n",
       "  '0',\n",
       "  '961794',\n",
       "  '2453',\n",
       "  '4.5',\n",
       "  '4.5',\n",
       "  '1.101.0',\n",
       "  '4+',\n",
       "  'Games',\n",
       "  '43',\n",
       "  '5',\n",
       "  '24',\n",
       "  '1',\n",
       "  'Awesome'],\n",
       " ['324684580',\n",
       "  'Spotify Music',\n",
       "  '132510720',\n",
       "  'USD',\n",
       "  '0',\n",
       "  '878563',\n",
       "  '8253',\n",
       "  '4.5',\n",
       "  '4.5',\n",
       "  '8.4.3',\n",
       "  '12+',\n",
       "  'Music',\n",
       "  '37',\n",
       "  '5',\n",
       "  '18',\n",
       "  '1',\n",
       "  'Awesome'],\n",
       " ['343200656',\n",
       "  'Angry Birds',\n",
       "  '175966208',\n",
       "  'USD',\n",
       "  '0',\n",
       "  '824451',\n",
       "  '107',\n",
       "  '4.5',\n",
       "  '3',\n",
       "  '7.4.0',\n",
       "  '4+',\n",
       "  'Games',\n",
       "  '38',\n",
       "  '0',\n",
       "  '10',\n",
       "  '1',\n",
       "  'Awesome'],\n",
       " ['512939461',\n",
       "  'Subway Surfers',\n",
       "  '156038144',\n",
       "  'USD',\n",
       "  '0',\n",
       "  '706110',\n",
       "  '97',\n",
       "  '4.5',\n",
       "  '4',\n",
       "  '1.72.1',\n",
       "  '9+',\n",
       "  'Games',\n",
       "  '38',\n",
       "  '5',\n",
       "  '1',\n",
       "  '1',\n",
       "  'Awesome'],\n",
       " ['362949845',\n",
       "  'Fruit Ninja Classic',\n",
       "  '104590336',\n",
       "  'USD',\n",
       "  '1.99',\n",
       "  '698516',\n",
       "  '132',\n",
       "  '4.5',\n",
       "  '4',\n",
       "  '2.3.9',\n",
       "  '4+',\n",
       "  'Games',\n",
       "  '38',\n",
       "  '5',\n",
       "  '13',\n",
       "  '1',\n",
       "  'Awesome'],\n",
       " ['359917414',\n",
       "  'Solitaire',\n",
       "  '101943296',\n",
       "  'USD',\n",
       "  '0',\n",
       "  '679055',\n",
       "  '9673',\n",
       "  '4.5',\n",
       "  '4.5',\n",
       "  '4.11.2',\n",
       "  '4+',\n",
       "  'Games',\n",
       "  '38',\n",
       "  '4',\n",
       "  '11',\n",
       "  '1',\n",
       "  'Awesome'],\n",
       " ['469369175',\n",
       "  'CSR Racing',\n",
       "  '524803072',\n",
       "  'USD',\n",
       "  '0',\n",
       "  '677247',\n",
       "  '2029',\n",
       "  '4.5',\n",
       "  '4.5',\n",
       "  '4.0.1',\n",
       "  '4+',\n",
       "  'Games',\n",
       "  '37',\n",
       "  '5',\n",
       "  '10',\n",
       "  '1',\n",
       "  'Awesome'],\n",
       " ['924373886',\n",
       "  'Crossy Road - Endless Arcade Hopper',\n",
       "  '165471232',\n",
       "  'USD',\n",
       "  '0',\n",
       "  '669079',\n",
       "  '1087',\n",
       "  '4.5',\n",
       "  '4.5',\n",
       "  '1.5.4',\n",
       "  '9+',\n",
       "  'Games',\n",
       "  '38',\n",
       "  '5',\n",
       "  '13',\n",
       "  '1',\n",
       "  'Awesome'],\n",
       " ['575658129',\n",
       "  'Injustice: Gods Among Us',\n",
       "  '1829599232',\n",
       "  'USD',\n",
       "  '0',\n",
       "  '612532',\n",
       "  '410',\n",
       "  '4.5',\n",
       "  '4.5',\n",
       "  '2.15.1',\n",
       "  '12+',\n",
       "  'Games',\n",
       "  '39',\n",
       "  '5',\n",
       "  '13',\n",
       "  '1',\n",
       "  'Awesome'],\n",
       " ['506627515',\n",
       "  'Hay Day',\n",
       "  '113641472',\n",
       "  'USD',\n",
       "  '0',\n",
       "  '567344',\n",
       "  '4887',\n",
       "  '4.5',\n",
       "  '4.5',\n",
       "  '1.33.134',\n",
       "  '4+',\n",
       "  'Games',\n",
       "  '38',\n",
       "  '5',\n",
       "  '18',\n",
       "  '1',\n",
       "  'Awesome'],\n",
       " ['500116670',\n",
       "  'Clear Vision (17+)',\n",
       "  '37879808',\n",
       "  'USD',\n",
       "  '0.99',\n",
       "  '541693',\n",
       "  '69225',\n",
       "  '4.5',\n",
       "  '4.5',\n",
       "  '1.1.3',\n",
       "  '17+',\n",
       "  'Games',\n",
       "  '43',\n",
       "  '5',\n",
       "  '1',\n",
       "  '1',\n",
       "  'Awesome'],\n",
       " ['479516143',\n",
       "  'Minecraft: Pocket Edition',\n",
       "  '147787776',\n",
       "  'USD',\n",
       "  '6.99',\n",
       "  '522012',\n",
       "  '1148',\n",
       "  '4.5',\n",
       "  '4.5',\n",
       "  '1.1',\n",
       "  '9+',\n",
       "  'Games',\n",
       "  '37',\n",
       "  '1',\n",
       "  '11',\n",
       "  '1',\n",
       "  'Awesome'],\n",
       " ['293778748',\n",
       "  'PAC-MAN',\n",
       "  '100849664',\n",
       "  'USD',\n",
       "  '0',\n",
       "  '508808',\n",
       "  '99',\n",
       "  '3',\n",
       "  '4.5',\n",
       "  '6.3.5',\n",
       "  '4+',\n",
       "  'Games',\n",
       "  '38',\n",
       "  '5',\n",
       "  '10',\n",
       "  '1',\n",
       "  'good'],\n",
       " ['341232718',\n",
       "  'Calorie Counter & Diet Tracker by MyFitnessPal',\n",
       "  '152700928',\n",
       "  'USD',\n",
       "  '0',\n",
       "  '507706',\n",
       "  '181',\n",
       "  '4.5',\n",
       "  '4.5',\n",
       "  '7.16',\n",
       "  '4+',\n",
       "  'Health & Fitness',\n",
       "  '37',\n",
       "  '5',\n",
       "  '19',\n",
       "  '1',\n",
       "  'Awesome'],\n",
       " ['440045374',\n",
       "  'DragonVale',\n",
       "  '153074688',\n",
       "  'USD',\n",
       "  '0',\n",
       "  '503230',\n",
       "  '282',\n",
       "  '4.5',\n",
       "  '4.5',\n",
       "  '3.15.0',\n",
       "  '4+',\n",
       "  'Games',\n",
       "  '37',\n",
       "  '5',\n",
       "  '10',\n",
       "  '1',\n",
       "  'Awesome'],\n",
       " ['295646461',\n",
       "  'The Weather Channel: Forecast, Radar & Alerts',\n",
       "  '199734272',\n",
       "  'USD',\n",
       "  '0',\n",
       "  '495626',\n",
       "  '5893',\n",
       "  '3.5',\n",
       "  '4.5',\n",
       "  '8.11',\n",
       "  '4+',\n",
       "  'Weather',\n",
       "  '37',\n",
       "  '0',\n",
       "  '33',\n",
       "  '1',\n",
       "  'good'],\n",
       " ['487119327',\n",
       "  'Head Soccer',\n",
       "  '121319424',\n",
       "  'USD',\n",
       "  '0',\n",
       "  '481564',\n",
       "  '8518',\n",
       "  '5',\n",
       "  '5',\n",
       "  '5.4.1',\n",
       "  '4+',\n",
       "  'Games',\n",
       "  '40',\n",
       "  '4',\n",
       "  '11',\n",
       "  '1',\n",
       "  'Awesome'],\n",
       " ['284815942',\n",
       "  'Google – Search made just for mobile',\n",
       "  '179979264',\n",
       "  'USD',\n",
       "  '0',\n",
       "  '479440',\n",
       "  '203',\n",
       "  '3.5',\n",
       "  '4',\n",
       "  '27',\n",
       "  '17+',\n",
       "  'Utilities',\n",
       "  '37',\n",
       "  '4',\n",
       "  '33',\n",
       "  '1',\n",
       "  'good'],\n",
       " ['596402997',\n",
       "  'Despicable Me: Minion Rush',\n",
       "  '147123200',\n",
       "  'USD',\n",
       "  '0',\n",
       "  '464312',\n",
       "  '444',\n",
       "  '4.5',\n",
       "  '4.5',\n",
       "  '4.6.0',\n",
       "  '9+',\n",
       "  'Games',\n",
       "  '38',\n",
       "  '5',\n",
       "  '16',\n",
       "  '1',\n",
       "  'Awesome'],\n",
       " ['466965151',\n",
       "  'The Sims™ FreePlay',\n",
       "  '695603200',\n",
       "  'USD',\n",
       "  '0',\n",
       "  '446880',\n",
       "  '1832',\n",
       "  '4.5',\n",
       "  '4',\n",
       "  '5.29.0',\n",
       "  '12+',\n",
       "  'Games',\n",
       "  '38',\n",
       "  '5',\n",
       "  '12',\n",
       "  '1',\n",
       "  'Awesome'],\n",
       " ['293622097',\n",
       "  'Google Earth',\n",
       "  '37214208',\n",
       "  'USD',\n",
       "  '0',\n",
       "  '446185',\n",
       "  '1359',\n",
       "  '3.5',\n",
       "  '3.5',\n",
       "  '7.1.6',\n",
       "  '4+',\n",
       "  'Travel',\n",
       "  '43',\n",
       "  '5',\n",
       "  '30',\n",
       "  '1',\n",
       "  'good'],\n",
       " ['350642635',\n",
       "  'Plants vs. Zombies',\n",
       "  '105379840',\n",
       "  'USD',\n",
       "  '0.99',\n",
       "  '426463',\n",
       "  '680',\n",
       "  '5',\n",
       "  '4',\n",
       "  '1.9.13',\n",
       "  '9+',\n",
       "  'Games',\n",
       "  '38',\n",
       "  '0',\n",
       "  '5',\n",
       "  '1',\n",
       "  'Awesome'],\n",
       " ['582654048',\n",
       "  'Sonic Dash',\n",
       "  '186687488',\n",
       "  'USD',\n",
       "  '0',\n",
       "  '418033',\n",
       "  '419',\n",
       "  '4.5',\n",
       "  '4.5',\n",
       "  '3.7.1',\n",
       "  '4+',\n",
       "  'Games',\n",
       "  '37',\n",
       "  '5',\n",
       "  '7',\n",
       "  '1',\n",
       "  'Awesome']]"
      ]
     },
     "execution_count": 26,
     "metadata": {},
     "output_type": "execute_result"
    }
   ],
   "source": [
    "dataset[0:31]"
   ]
  },
  {
   "cell_type": "code",
   "execution_count": null,
   "metadata": {},
   "outputs": [],
   "source": []
  }
 ],
 "metadata": {
  "kernelspec": {
   "display_name": "Python 3",
   "language": "python",
   "name": "python3"
  },
  "language_info": {
   "codemirror_mode": {
    "name": "ipython",
    "version": 3
   },
   "file_extension": ".py",
   "mimetype": "text/x-python",
   "name": "python",
   "nbconvert_exporter": "python",
   "pygments_lexer": "ipython3",
   "version": "3.7.3"
  }
 },
 "nbformat": 4,
 "nbformat_minor": 2
}
